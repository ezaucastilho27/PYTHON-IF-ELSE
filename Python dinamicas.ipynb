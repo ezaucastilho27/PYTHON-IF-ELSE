{
 "cells": [
  {
   "cell_type": "code",
   "execution_count": 1,
   "metadata": {},
   "outputs": [
    {
     "name": "stdout",
     "output_type": "stream",
     "text": [
      "a) O produto do dobro do primeiro com metade do segundo é: 529.0\n",
      "b) A soma do triplo do primeiro com o terceiro é: 101.0\n",
      "   O terceiro elevado ao cubo é: 32768.0\n"
     ]
    }
   ],
   "source": [
    "# Pedindo os números inteiros e o número real\n",
    "num_int1 = int(input(\"Digite o primeiro número inteiro: \"))\n",
    "num_int2 = int(input(\"Digite o segundo número inteiro: \"))\n",
    "num_real = float(input(\"Digite o número real: \"))\n",
    "\n",
    "# Calculando as operações\n",
    "resultado_a = (2 * num_int1) * (num_int2 / 2)\n",
    "resultado_b_soma = (3 * num_int1) + num_real\n",
    "resultado_b_cubo = num_real ** 3\n",
    "\n",
    "# Mostrando os resultados\n",
    "print(\"a) O produto do dobro do primeiro com metade do segundo é:\", resultado_a)\n",
    "print(\"b) A soma do triplo do primeiro com o terceiro é:\", resultado_b_soma)\n",
    "print(\"   O terceiro elevado ao cubo é:\", resultado_b_cubo)"
   ]
  },
  {
   "cell_type": "code",
   "execution_count": 2,
   "metadata": {},
   "outputs": [
    {
     "name": "stdout",
     "output_type": "stream",
     "text": [
      "Os números são iguais.\n"
     ]
    }
   ],
   "source": [
    "# Solicitando os números ao usuário\n",
    "num1 = float(input(\"Digite o primeiro número: \"))\n",
    "num2 = float(input(\"Digite o segundo número: \"))\n",
    "\n",
    "# Verificando e imprimindo o maior número\n",
    "if num1 > num2:\n",
    "    print(\"O primeiro número, \", num1, \", é o maior.\")\n",
    "elif num2 > num1:\n",
    "    print(\"O segundo número, \", num2, \", é o maior.\")\n",
    "else:\n",
    "    print(\"Os números são iguais.\")"
   ]
  },
  {
   "cell_type": "code",
   "execution_count": 3,
   "metadata": {},
   "outputs": [
    {
     "name": "stdout",
     "output_type": "stream",
     "text": [
      "O valor é positivo.\n"
     ]
    }
   ],
   "source": [
    "# Solicitando o valor ao usuário\n",
    "valor = float(input(\"Digite um valor: \"))\n",
    "\n",
    "# Verificando se o valor é positivo, negativo ou zero e exibindo na tela\n",
    "if valor > 0:\n",
    "    print(\"O valor é positivo.\")\n",
    "elif valor < 0:\n",
    "    print(\"O valor é negativo.\")\n",
    "else:\n",
    "    print(\"O valor é zero.\")"
   ]
  },
  {
   "cell_type": "code",
   "execution_count": 4,
   "metadata": {},
   "outputs": [
    {
     "name": "stdout",
     "output_type": "stream",
     "text": [
      "Média: 4.5\n",
      "Reprovado\n"
     ]
    }
   ],
   "source": [
    "# Solicitando as notas parciais ao usuário\n",
    "nota1 = float(input(\"Digite a primeira nota parcial: \"))\n",
    "nota2 = float(input(\"Digite a segunda nota parcial: \"))\n",
    "\n",
    "# Calculando a média\n",
    "media = (nota1 + nota2) / 2\n",
    "\n",
    "# Verificando se o aluno foi aprovado ou reprovado\n",
    "if media >= 7.0:\n",
    "    print(\"Média:\", media)\n",
    "    print(\"Aprovado\")\n",
    "else:\n",
    "    print(\"Média:\", media)\n",
    "    print(\"Reprovado\")"
   ]
  },
  {
   "cell_type": "code",
   "execution_count": 6,
   "metadata": {},
   "outputs": [
    {
     "name": "stdout",
     "output_type": "stream",
     "text": [
      "O terceiro número,  545.0 , é o maior.\n"
     ]
    }
   ],
   "source": [
    "# Solicitando os três números ao usuário\n",
    "num1 = float(input(\"Digite o primeiro número: \"))\n",
    "num2 = float(input(\"Digite o segundo número: \"))\n",
    "num3 = float(input(\"Digite o terceiro número: \"))\n",
    "\n",
    "# Verificando e imprimindo o maior número\n",
    "if num1 >= num2 and num1 >= num3:\n",
    "    print(\"O primeiro número, \", num1, \", é o maior.\")\n",
    "elif num2 >= num1 and num2 >= num3:\n",
    "    print(\"O segundo número, \", num2, \", é o maior.\")\n",
    "else:\n",
    "    print(\"O terceiro número, \", num3, \", é o maior.\")\n"
   ]
  }
 ],
 "metadata": {
  "kernelspec": {
   "display_name": "Python 3",
   "language": "python",
   "name": "python3"
  },
  "language_info": {
   "codemirror_mode": {
    "name": "ipython",
    "version": 3
   },
   "file_extension": ".py",
   "mimetype": "text/x-python",
   "name": "python",
   "nbconvert_exporter": "python",
   "pygments_lexer": "ipython3",
   "version": "3.11.4"
  }
 },
 "nbformat": 4,
 "nbformat_minor": 2
}
